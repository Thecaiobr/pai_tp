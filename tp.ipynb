{
 "cells": [
  {
   "cell_type": "markdown",
   "metadata": {},
   "source": [
    "# Segmentação e reconhecimento de células em exames de Papanicolau"
   ]
  },
  {
   "cell_type": "markdown",
   "metadata": {},
   "source": [
    "### Componentes do grupo: Rafael Lopes Murta"
   ]
  },
  {
   "cell_type": "markdown",
   "metadata": {},
   "source": [
    "## Importações"
   ]
  },
  {
   "cell_type": "code",
   "execution_count": 1,
   "metadata": {},
   "outputs": [],
   "source": [
    "import tensorflow.keras as keras\n",
    "import pandas as pd\n",
    "from PIL import Image"
   ]
  },
  {
   "cell_type": "code",
   "execution_count": 7,
   "metadata": {},
   "outputs": [],
   "source": [
    "classifications_csv = pd.read_csv('Trabalho/classifications.csv')"
   ]
  },
  {
   "cell_type": "code",
   "execution_count": 6,
   "metadata": {},
   "outputs": [
    {
     "name": "stdout",
     "output_type": "stream",
     "text": [
      "<class 'pandas.core.frame.DataFrame'>\n",
      "RangeIndex: 11534 entries, 0 to 11533\n",
      "Data columns (total 7 columns):\n",
      " #   Column           Non-Null Count  Dtype \n",
      "---  ------           --------------  ----- \n",
      " 0   image_id         11534 non-null  int64 \n",
      " 1   image_filename   11534 non-null  object\n",
      " 2   image_doi        11534 non-null  object\n",
      " 3   cell_id          11534 non-null  int64 \n",
      " 4   bethesda_system  11534 non-null  object\n",
      " 5   nucleus_x        11534 non-null  int64 \n",
      " 6   nucleus_y        11534 non-null  int64 \n",
      "dtypes: int64(4), object(3)\n",
      "memory usage: 630.9+ KB\n"
     ]
    }
   ],
   "source": [
    "classifications_csv.info()"
   ]
  },
  {
   "cell_type": "code",
   "execution_count": 3,
   "metadata": {},
   "outputs": [
    {
     "data": {
      "text/html": [
       "<div>\n",
       "<style scoped>\n",
       "    .dataframe tbody tr th:only-of-type {\n",
       "        vertical-align: middle;\n",
       "    }\n",
       "\n",
       "    .dataframe tbody tr th {\n",
       "        vertical-align: top;\n",
       "    }\n",
       "\n",
       "    .dataframe thead th {\n",
       "        text-align: right;\n",
       "    }\n",
       "</style>\n",
       "<table border=\"1\" class=\"dataframe\">\n",
       "  <thead>\n",
       "    <tr style=\"text-align: right;\">\n",
       "      <th></th>\n",
       "      <th>image_id</th>\n",
       "      <th>image_filename</th>\n",
       "      <th>image_doi</th>\n",
       "      <th>cell_id</th>\n",
       "      <th>bethesda_system</th>\n",
       "      <th>nucleus_x</th>\n",
       "      <th>nucleus_y</th>\n",
       "    </tr>\n",
       "  </thead>\n",
       "  <tbody>\n",
       "    <tr>\n",
       "      <th>0</th>\n",
       "      <td>400</td>\n",
       "      <td>9ae8a4edde40219bad6303cebc672ee4.png</td>\n",
       "      <td>10.6084/m9.figshare.12230906</td>\n",
       "      <td>1</td>\n",
       "      <td>SCC</td>\n",
       "      <td>792</td>\n",
       "      <td>462</td>\n",
       "    </tr>\n",
       "    <tr>\n",
       "      <th>1</th>\n",
       "      <td>400</td>\n",
       "      <td>9ae8a4edde40219bad6303cebc672ee4.png</td>\n",
       "      <td>10.6084/m9.figshare.12230906</td>\n",
       "      <td>2</td>\n",
       "      <td>SCC</td>\n",
       "      <td>601</td>\n",
       "      <td>678</td>\n",
       "    </tr>\n",
       "    <tr>\n",
       "      <th>2</th>\n",
       "      <td>400</td>\n",
       "      <td>9ae8a4edde40219bad6303cebc672ee4.png</td>\n",
       "      <td>10.6084/m9.figshare.12230906</td>\n",
       "      <td>3</td>\n",
       "      <td>SCC</td>\n",
       "      <td>363</td>\n",
       "      <td>467</td>\n",
       "    </tr>\n",
       "    <tr>\n",
       "      <th>3</th>\n",
       "      <td>400</td>\n",
       "      <td>9ae8a4edde40219bad6303cebc672ee4.png</td>\n",
       "      <td>10.6084/m9.figshare.12230906</td>\n",
       "      <td>4</td>\n",
       "      <td>SCC</td>\n",
       "      <td>599</td>\n",
       "      <td>437</td>\n",
       "    </tr>\n",
       "    <tr>\n",
       "      <th>4</th>\n",
       "      <td>400</td>\n",
       "      <td>9ae8a4edde40219bad6303cebc672ee4.png</td>\n",
       "      <td>10.6084/m9.figshare.12230906</td>\n",
       "      <td>5</td>\n",
       "      <td>Negative for intraepithelial lesion</td>\n",
       "      <td>1186</td>\n",
       "      <td>450</td>\n",
       "    </tr>\n",
       "  </tbody>\n",
       "</table>\n",
       "</div>"
      ],
      "text/plain": [
       "   image_id                        image_filename  \\\n",
       "0       400  9ae8a4edde40219bad6303cebc672ee4.png   \n",
       "1       400  9ae8a4edde40219bad6303cebc672ee4.png   \n",
       "2       400  9ae8a4edde40219bad6303cebc672ee4.png   \n",
       "3       400  9ae8a4edde40219bad6303cebc672ee4.png   \n",
       "4       400  9ae8a4edde40219bad6303cebc672ee4.png   \n",
       "\n",
       "                      image_doi  cell_id                      bethesda_system  \\\n",
       "0  10.6084/m9.figshare.12230906        1                                  SCC   \n",
       "1  10.6084/m9.figshare.12230906        2                                  SCC   \n",
       "2  10.6084/m9.figshare.12230906        3                                  SCC   \n",
       "3  10.6084/m9.figshare.12230906        4                                  SCC   \n",
       "4  10.6084/m9.figshare.12230906        5  Negative for intraepithelial lesion   \n",
       "\n",
       "   nucleus_x  nucleus_y  \n",
       "0        792        462  \n",
       "1        601        678  \n",
       "2        363        467  \n",
       "3        599        437  \n",
       "4       1186        450  "
      ]
     },
     "execution_count": 3,
     "metadata": {},
     "output_type": "execute_result"
    }
   ],
   "source": [
    "classifications_csv.head()"
   ]
  },
  {
   "cell_type": "code",
   "execution_count": 14,
   "metadata": {},
   "outputs": [
    {
     "data": {
      "text/plain": [
       "0                                     SCC\n",
       "4     Negative for intraepithelial lesion\n",
       "6                                    LSIL\n",
       "8                                    HSIL\n",
       "9                                   ASC-H\n",
       "98                                 ASC-US\n",
       "Name: bethesda_system, dtype: object"
      ]
     },
     "execution_count": 14,
     "metadata": {},
     "output_type": "execute_result"
    }
   ],
   "source": [
    "classifications_csv['bethesda_system'].drop_duplicates()"
   ]
  },
  {
   "cell_type": "code",
   "execution_count": 15,
   "metadata": {},
   "outputs": [
    {
     "data": {
      "text/html": [
       "<div>\n",
       "<style scoped>\n",
       "    .dataframe tbody tr th:only-of-type {\n",
       "        vertical-align: middle;\n",
       "    }\n",
       "\n",
       "    .dataframe tbody tr th {\n",
       "        vertical-align: top;\n",
       "    }\n",
       "\n",
       "    .dataframe thead th {\n",
       "        text-align: right;\n",
       "    }\n",
       "</style>\n",
       "<table border=\"1\" class=\"dataframe\">\n",
       "  <thead>\n",
       "    <tr style=\"text-align: right;\">\n",
       "      <th></th>\n",
       "      <th>image_id</th>\n",
       "      <th>image_filename</th>\n",
       "      <th>image_doi</th>\n",
       "      <th>cell_id</th>\n",
       "      <th>bethesda_system</th>\n",
       "      <th>nucleus_x</th>\n",
       "      <th>nucleus_y</th>\n",
       "    </tr>\n",
       "  </thead>\n",
       "  <tbody>\n",
       "    <tr>\n",
       "      <th>11529</th>\n",
       "      <td>1</td>\n",
       "      <td>be340ee72689dfe3f8dc9c24de6127f4.png</td>\n",
       "      <td>10.6084/m9.figshare.12229511</td>\n",
       "      <td>11530</td>\n",
       "      <td>LSIL</td>\n",
       "      <td>618</td>\n",
       "      <td>407</td>\n",
       "    </tr>\n",
       "    <tr>\n",
       "      <th>11530</th>\n",
       "      <td>1</td>\n",
       "      <td>be340ee72689dfe3f8dc9c24de6127f4.png</td>\n",
       "      <td>10.6084/m9.figshare.12229511</td>\n",
       "      <td>11531</td>\n",
       "      <td>LSIL</td>\n",
       "      <td>607</td>\n",
       "      <td>374</td>\n",
       "    </tr>\n",
       "    <tr>\n",
       "      <th>11531</th>\n",
       "      <td>1</td>\n",
       "      <td>be340ee72689dfe3f8dc9c24de6127f4.png</td>\n",
       "      <td>10.6084/m9.figshare.12229511</td>\n",
       "      <td>11532</td>\n",
       "      <td>LSIL</td>\n",
       "      <td>707</td>\n",
       "      <td>251</td>\n",
       "    </tr>\n",
       "    <tr>\n",
       "      <th>11532</th>\n",
       "      <td>1</td>\n",
       "      <td>be340ee72689dfe3f8dc9c24de6127f4.png</td>\n",
       "      <td>10.6084/m9.figshare.12229511</td>\n",
       "      <td>11533</td>\n",
       "      <td>LSIL</td>\n",
       "      <td>579</td>\n",
       "      <td>246</td>\n",
       "    </tr>\n",
       "    <tr>\n",
       "      <th>11533</th>\n",
       "      <td>1</td>\n",
       "      <td>be340ee72689dfe3f8dc9c24de6127f4.png</td>\n",
       "      <td>10.6084/m9.figshare.12229511</td>\n",
       "      <td>11534</td>\n",
       "      <td>Negative for intraepithelial lesion</td>\n",
       "      <td>227</td>\n",
       "      <td>130</td>\n",
       "    </tr>\n",
       "  </tbody>\n",
       "</table>\n",
       "</div>"
      ],
      "text/plain": [
       "       image_id                        image_filename  \\\n",
       "11529         1  be340ee72689dfe3f8dc9c24de6127f4.png   \n",
       "11530         1  be340ee72689dfe3f8dc9c24de6127f4.png   \n",
       "11531         1  be340ee72689dfe3f8dc9c24de6127f4.png   \n",
       "11532         1  be340ee72689dfe3f8dc9c24de6127f4.png   \n",
       "11533         1  be340ee72689dfe3f8dc9c24de6127f4.png   \n",
       "\n",
       "                          image_doi  cell_id  \\\n",
       "11529  10.6084/m9.figshare.12229511    11530   \n",
       "11530  10.6084/m9.figshare.12229511    11531   \n",
       "11531  10.6084/m9.figshare.12229511    11532   \n",
       "11532  10.6084/m9.figshare.12229511    11533   \n",
       "11533  10.6084/m9.figshare.12229511    11534   \n",
       "\n",
       "                           bethesda_system  nucleus_x  nucleus_y  \n",
       "11529                                 LSIL        618        407  \n",
       "11530                                 LSIL        607        374  \n",
       "11531                                 LSIL        707        251  \n",
       "11532                                 LSIL        579        246  \n",
       "11533  Negative for intraepithelial lesion        227        130  "
      ]
     },
     "execution_count": 15,
     "metadata": {},
     "output_type": "execute_result"
    }
   ],
   "source": []
  },
  {
   "cell_type": "code",
   "execution_count": null,
   "metadata": {},
   "outputs": [],
   "source": []
  }
 ],
 "metadata": {
  "kernelspec": {
   "display_name": ".venv",
   "language": "python",
   "name": "python3"
  },
  "language_info": {
   "codemirror_mode": {
    "name": "ipython",
    "version": 3
   },
   "file_extension": ".py",
   "mimetype": "text/x-python",
   "name": "python",
   "nbconvert_exporter": "python",
   "pygments_lexer": "ipython3",
   "version": "3.10.12"
  }
 },
 "nbformat": 4,
 "nbformat_minor": 2
}
