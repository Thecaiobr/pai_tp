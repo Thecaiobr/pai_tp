{
 "cells": [
  {
   "cell_type": "markdown",
   "metadata": {},
   "source": [
    "# Segmentação e reconhecimento de células em exames de Papanicolau"
   ]
  },
  {
   "cell_type": "markdown",
   "metadata": {},
   "source": [
    "### Componentes do grupo: Rafael Lopes Murta"
   ]
  },
  {
   "cell_type": "markdown",
   "metadata": {},
   "source": [
    "## Importações"
   ]
  },
  {
   "cell_type": "code",
   "execution_count": 2,
   "metadata": {},
   "outputs": [],
   "source": [
    "import cv2\n",
    "import pandas as pd\n",
    "import numpy as np\n",
    "from PIL import Image\n",
    "from os import listdir, makedirs\n",
    "from os.path import isfile, join, exists\n",
    "import matplotlib.pyplot as plt"
   ]
  },
  {
   "cell_type": "code",
   "execution_count": 3,
   "metadata": {},
   "outputs": [],
   "source": [
    "classifications_csv = pd.read_csv('classifications.csv')"
   ]
  },
  {
   "cell_type": "markdown",
   "metadata": {},
   "source": [
    "## Visualizações"
   ]
  },
  {
   "cell_type": "code",
   "execution_count": 4,
   "metadata": {},
   "outputs": [
    {
     "name": "stdout",
     "output_type": "stream",
     "text": [
      "<class 'pandas.core.frame.DataFrame'>\n",
      "RangeIndex: 11534 entries, 0 to 11533\n",
      "Data columns (total 7 columns):\n",
      " #   Column           Non-Null Count  Dtype \n",
      "---  ------           --------------  ----- \n",
      " 0   image_id         11534 non-null  int64 \n",
      " 1   image_filename   11534 non-null  object\n",
      " 2   image_doi        11534 non-null  object\n",
      " 3   cell_id          11534 non-null  int64 \n",
      " 4   bethesda_system  11534 non-null  object\n",
      " 5   nucleus_x        11534 non-null  int64 \n",
      " 6   nucleus_y        11534 non-null  int64 \n",
      "dtypes: int64(4), object(3)\n",
      "memory usage: 630.9+ KB\n"
     ]
    }
   ],
   "source": [
    "classifications_csv.info()"
   ]
  },
  {
   "cell_type": "code",
   "execution_count": 5,
   "metadata": {},
   "outputs": [
    {
     "data": {
      "text/html": [
       "<div>\n",
       "<style scoped>\n",
       "    .dataframe tbody tr th:only-of-type {\n",
       "        vertical-align: middle;\n",
       "    }\n",
       "\n",
       "    .dataframe tbody tr th {\n",
       "        vertical-align: top;\n",
       "    }\n",
       "\n",
       "    .dataframe thead th {\n",
       "        text-align: right;\n",
       "    }\n",
       "</style>\n",
       "<table border=\"1\" class=\"dataframe\">\n",
       "  <thead>\n",
       "    <tr style=\"text-align: right;\">\n",
       "      <th></th>\n",
       "      <th>image_id</th>\n",
       "      <th>image_filename</th>\n",
       "      <th>image_doi</th>\n",
       "      <th>cell_id</th>\n",
       "      <th>bethesda_system</th>\n",
       "      <th>nucleus_x</th>\n",
       "      <th>nucleus_y</th>\n",
       "    </tr>\n",
       "  </thead>\n",
       "  <tbody>\n",
       "    <tr>\n",
       "      <th>0</th>\n",
       "      <td>400</td>\n",
       "      <td>9ae8a4edde40219bad6303cebc672ee4.png</td>\n",
       "      <td>10.6084/m9.figshare.12230906</td>\n",
       "      <td>1</td>\n",
       "      <td>SCC</td>\n",
       "      <td>792</td>\n",
       "      <td>462</td>\n",
       "    </tr>\n",
       "    <tr>\n",
       "      <th>1</th>\n",
       "      <td>400</td>\n",
       "      <td>9ae8a4edde40219bad6303cebc672ee4.png</td>\n",
       "      <td>10.6084/m9.figshare.12230906</td>\n",
       "      <td>2</td>\n",
       "      <td>SCC</td>\n",
       "      <td>601</td>\n",
       "      <td>678</td>\n",
       "    </tr>\n",
       "    <tr>\n",
       "      <th>2</th>\n",
       "      <td>400</td>\n",
       "      <td>9ae8a4edde40219bad6303cebc672ee4.png</td>\n",
       "      <td>10.6084/m9.figshare.12230906</td>\n",
       "      <td>3</td>\n",
       "      <td>SCC</td>\n",
       "      <td>363</td>\n",
       "      <td>467</td>\n",
       "    </tr>\n",
       "    <tr>\n",
       "      <th>3</th>\n",
       "      <td>400</td>\n",
       "      <td>9ae8a4edde40219bad6303cebc672ee4.png</td>\n",
       "      <td>10.6084/m9.figshare.12230906</td>\n",
       "      <td>4</td>\n",
       "      <td>SCC</td>\n",
       "      <td>599</td>\n",
       "      <td>437</td>\n",
       "    </tr>\n",
       "    <tr>\n",
       "      <th>4</th>\n",
       "      <td>400</td>\n",
       "      <td>9ae8a4edde40219bad6303cebc672ee4.png</td>\n",
       "      <td>10.6084/m9.figshare.12230906</td>\n",
       "      <td>5</td>\n",
       "      <td>Negative for intraepithelial lesion</td>\n",
       "      <td>1186</td>\n",
       "      <td>450</td>\n",
       "    </tr>\n",
       "  </tbody>\n",
       "</table>\n",
       "</div>"
      ],
      "text/plain": [
       "   image_id                        image_filename  \\\n",
       "0       400  9ae8a4edde40219bad6303cebc672ee4.png   \n",
       "1       400  9ae8a4edde40219bad6303cebc672ee4.png   \n",
       "2       400  9ae8a4edde40219bad6303cebc672ee4.png   \n",
       "3       400  9ae8a4edde40219bad6303cebc672ee4.png   \n",
       "4       400  9ae8a4edde40219bad6303cebc672ee4.png   \n",
       "\n",
       "                      image_doi  cell_id                      bethesda_system  \\\n",
       "0  10.6084/m9.figshare.12230906        1                                  SCC   \n",
       "1  10.6084/m9.figshare.12230906        2                                  SCC   \n",
       "2  10.6084/m9.figshare.12230906        3                                  SCC   \n",
       "3  10.6084/m9.figshare.12230906        4                                  SCC   \n",
       "4  10.6084/m9.figshare.12230906        5  Negative for intraepithelial lesion   \n",
       "\n",
       "   nucleus_x  nucleus_y  \n",
       "0        792        462  \n",
       "1        601        678  \n",
       "2        363        467  \n",
       "3        599        437  \n",
       "4       1186        450  "
      ]
     },
     "execution_count": 5,
     "metadata": {},
     "output_type": "execute_result"
    }
   ],
   "source": [
    "classifications_csv.head()"
   ]
  },
  {
   "cell_type": "code",
   "execution_count": 6,
   "metadata": {},
   "outputs": [
    {
     "data": {
      "text/plain": [
       "0                                     SCC\n",
       "4     Negative for intraepithelial lesion\n",
       "6                                    LSIL\n",
       "8                                    HSIL\n",
       "9                                   ASC-H\n",
       "98                                 ASC-US\n",
       "Name: bethesda_system, dtype: object"
      ]
     },
     "execution_count": 6,
     "metadata": {},
     "output_type": "execute_result"
    }
   ],
   "source": [
    "classifications_csv['bethesda_system'].drop_duplicates()"
   ]
  },
  {
   "cell_type": "markdown",
   "metadata": {},
   "source": [
    "## Funções"
   ]
  },
  {
   "cell_type": "code",
   "execution_count": 7,
   "metadata": {},
   "outputs": [],
   "source": [
    "# Corta a imagem no tamanho de 100x100 pixels\n",
    "def crop_image(image, x, y):    \n",
    "    left = x - 50\n",
    "    right = x + 50\n",
    "    top = y - 50\n",
    "    bottom = y + 50\n",
    "\n",
    "    image = image.crop((left, top, right, bottom))\n",
    "    return image"
   ]
  },
  {
   "cell_type": "code",
   "execution_count": 8,
   "metadata": {},
   "outputs": [],
   "source": [
    "def get_img_dir(bethesda_system):\n",
    "    if bethesda_system == 'SCC' or bethesda_system == 'LSIL' or bethesda_system == 'HSIL' or bethesda_system == 'ASC-H' or bethesda_system == 'ASC-US':\n",
    "        return 'editted_images/' + bethesda_system.lower() + '/'\n",
    "    elif bethesda_system == 'Negative for intraepithelial lesion':\n",
    "        return 'editted_images/nfil/'\n"
   ]
  },
  {
   "cell_type": "code",
   "execution_count": 9,
   "metadata": {},
   "outputs": [],
   "source": [
    "def get_new_nucleus_position(image, x, y):\n",
    "    width, height = image.size\n",
    "    if (x >= 50 and x <= (width - 50)):\n",
    "        new_x = 50\n",
    "    elif (x < 50):\n",
    "        new_x = x\n",
    "    else:\n",
    "        new_x = 50 + (width - x)\n",
    "\n",
    "    if (y >= 50 and y <= (height - 50)):\n",
    "        new_y = 50\n",
    "    elif (y < 50):\n",
    "        new_y = y\n",
    "    else:\n",
    "        new_y = 50 + (height - y)\n",
    "    \n",
    "    return new_x, new_y"
   ]
  },
  {
   "cell_type": "code",
   "execution_count": 10,
   "metadata": {},
   "outputs": [],
   "source": [
    "def process_image(image):\n",
    "    gray_image = cv2.cvtColor(image, cv2.COLOR_BGR2GRAY)\n",
    "    _, binary_image = cv2.threshold(gray_image, 128, 255, cv2.THRESH_BINARY)\n",
    "    kernel = np.ones((10, 10), np.uint8)\n",
    "    return cv2.morphologyEx(binary_image, cv2.MORPH_CLOSE, kernel)"
   ]
  },
  {
   "cell_type": "code",
   "execution_count": 11,
   "metadata": {},
   "outputs": [],
   "source": [
    "def get_shape_descriptors(image):\n",
    "    contours, _ = cv2.findContours(image, cv2.RETR_TREE, cv2.CHAIN_APPROX_SIMPLE)\n",
    "    if contours:\n",
    "        contour = contours[0]\n",
    "        area = cv2.contourArea(contour)\n",
    "        perimeter = cv2.arcLength(contour, True)\n",
    "\n",
    "        if area > 0:\n",
    "            compactness = (perimeter**2) / (4 * np.pi * area)\n",
    "            moments = cv2.moments(contour)\n",
    "            hu_moments = cv2.HuMoments(moments).flatten()\n",
    "            rect = cv2.minAreaRect(contour)\n",
    "            axis_x = rect[1][0]\n",
    "            axis_y = rect[1][1]\n",
    "\n",
    "            if axis_x > axis_y:\n",
    "                eccentricity = axis_x / axis_y\n",
    "            else:\n",
    "                eccentricity = axis_y / axis_x\n",
    "\n",
    "            return [area, perimeter, compactness, hu_moments, eccentricity]\n",
    "        \n",
    "    return None\n"
   ]
  },
  {
   "cell_type": "markdown",
   "metadata": {},
   "source": [
    "## Salvar as imagens nas respectivas pastas e Segmentar"
   ]
  },
  {
   "cell_type": "code",
   "execution_count": 13,
   "metadata": {},
   "outputs": [
    {
     "ename": "",
     "evalue": "",
     "output_type": "error",
     "traceback": [
      "\u001b[1;31mThe Kernel crashed while executing code in the the current cell or a previous cell. Please review the code in the cell(s) to identify a possible cause of the failure. Click <a href='https://aka.ms/vscodeJupyterKernelCrash'>here</a> for more info. View Jupyter <a href='command:jupyter.viewOutput'>log</a> for further details."
     ]
    }
   ],
   "source": [
    "dir_list = ['scc', 'lsil', 'hsil', 'asc-h', 'asc-us', 'nfil']\n",
    "makedirs('editted_images', exist_ok=True)\n",
    "for i in dir_list:\n",
    "    makedirs(f'editted_images/{i}', exist_ok=True)\n",
    "dataframe = pd.DataFrame(columns=['original_filename', 'cell_id', 'bethesda_system', 'area', 'perimeter', 'compactness', 'eccentricity', 'circularity', 'distance_from_original_nucleus'])\n",
    "onlyfiles = [f for f in listdir('images') if isfile(join('images', f))]\n",
    "for index, row in classifications_csv.iterrows():\n",
    "    if row[\"image_filename\"] in onlyfiles:\n",
    "        original_image_filepath = f'images/{row[\"image_filename\"]}'\n",
    "        image = Image.open(original_image_filepath)\n",
    "        croped_image = crop_image(image, row['nucleus_x'], row['nucleus_y'])\n",
    "        croped_image_filepath = f'{get_img_dir(row[\"bethesda_system\"])}{row[\"cell_id\"]}.jpg'\n",
    "        croped_image.save(croped_image_filepath)\n",
    "        cropped_image_np = process_image(np.asarray(croped_image))\n",
    "              \n",
    "        # Limiarização\n",
    "        center_y, center_x = cropped_image_np.shape[0] // 2, cropped_image_np.shape[1] // 2\n",
    "        blurred_image = cv2.GaussianBlur(cropped_image_np, (5, 5), 0)\n",
    "        valor_pixel_central = blurred_image[center_y, center_x] * 1.37\n",
    "        _, img_thresholded = cv2.threshold(\n",
    "            blurred_image, valor_pixel_central, 255, cv2.THRESH_BINARY)\n",
    "            \n",
    "        sobelx = cv2.Sobel(img_thresholded, cv2.CV_64F, 1, 0, ksize=3)\n",
    "        sobely = cv2.Sobel(img_thresholded, cv2.CV_64F, 0, 1, ksize=3)\n",
    "        sobel = cv2.magnitude(sobelx, sobely)\n",
    "            \n",
    "        # Contornos\n",
    "        contours, _ = cv2.findContours(sobel.astype('uint8'), cv2.RETR_EXTERNAL, cv2.CHAIN_APPROX_NONE)\n",
    "\n",
    "        center_x, center_y = cropped_image_np.shape[1] // 2, cropped_image_np.shape[0] // 2\n",
    "        minimum_distance = float('inf')\n",
    "        central_contour = None\n",
    "\n",
    "        # Contorno mais ao centro\n",
    "        for contour in contours:\n",
    "            M = cv2.moments(contour)\n",
    "            if M[\"m00\"] != 0:\n",
    "                cx = int(M[\"m10\"] / M[\"m00\"])\n",
    "                cy = int(M[\"m01\"] / M[\"m00\"])\n",
    "                distance = np.sqrt((center_x - cx) ** 2 + (center_y - cy) ** 2)\n",
    "                if distance < minimum_distance:\n",
    "                    minimum_distance = distance\n",
    "                    central_contour = contour\n",
    "\n",
    "        area = 0\n",
    "        perimeter = 0\n",
    "        eccentricity = 0\n",
    "        compactness = 0\n",
    "            \n",
    "        if central_contour is not None:\n",
    "            cv2.drawContours(cropped_image_np, [central_contour], -1, (0, 255, 0), 2)\n",
    "            area = cv2.contourArea(central_contour)\n",
    "            perimeter = cv2.arcLength(central_contour, True)\n",
    "            compactness = (perimeter ** 2) / (4 * np.pi * area) if area != 0 else 0\n",
    "            circularity = (4 * np.pi * area) / (perimeter ** 2) if perimeter != 0 else 0\n",
    "            if len(central_contour) >= 5:  # Necessário para ajustar uma elipse\n",
    "                (x, y), (eixo_menor, eixo_maior), angle = cv2.fitEllipse(central_contour)\n",
    "                eccentricity = np.sqrt(1 - (eixo_menor / eixo_maior) ** 2) if eixo_maior != 0 else 0\n",
    "            else:\n",
    "                eccentricity = 0\n",
    "            cv2.circle(cropped_image_np, (center_x, center_y), 2, (255, 0, 0), -1)\n",
    "\n",
    "            dataframe.loc[dataframe.size] = [original_image_filepath, row['cell_id'], row['bethesda_system'], area, perimeter, compactness, eccentricity, circularity, minimum_distance]\n",
    "\n",
    "dataframe.to_csv('characteristics.csv', index=False)"
   ]
  },
  {
   "cell_type": "code",
   "execution_count": null,
   "metadata": {},
   "outputs": [],
   "source": []
  }
 ],
 "metadata": {
  "kernelspec": {
   "display_name": ".venv",
   "language": "python",
   "name": "python3"
  },
  "language_info": {
   "codemirror_mode": {
    "name": "ipython",
    "version": 3
   },
   "file_extension": ".py",
   "mimetype": "text/x-python",
   "name": "python",
   "nbconvert_exporter": "python",
   "pygments_lexer": "ipython3",
   "version": "3.10.12"
  }
 },
 "nbformat": 4,
 "nbformat_minor": 2
}
