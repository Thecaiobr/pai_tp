{
 "cells": [
  {
   "cell_type": "markdown",
   "metadata": {},
   "source": [
    "# Segmentação e reconhecimento de células em exames de Papanicolau"
   ]
  },
  {
   "cell_type": "markdown",
   "metadata": {},
   "source": [
    "### Componentes do grupo: Rafael Lopes Murta"
   ]
  },
  {
   "cell_type": "markdown",
   "metadata": {},
   "source": [
    "## Importações"
   ]
  },
  {
   "cell_type": "code",
   "execution_count": 7,
   "metadata": {},
   "outputs": [],
   "source": [
    "import cv2\n",
    "import pandas as pd\n",
    "import numpy as np\n",
    "from PIL import Image\n",
    "from os import listdir, makedirs\n",
    "from os.path import isfile, join, exists\n",
    "from os import makedirs, path, getcwd\n",
    "import matplotlib.pyplot as plt\n",
    "import seaborn as sns"
   ]
  },
  {
   "cell_type": "code",
   "execution_count": 2,
   "metadata": {},
   "outputs": [],
   "source": [
    "classifications_csv = pd.read_csv('classifications.csv')"
   ]
  },
  {
   "cell_type": "markdown",
   "metadata": {},
   "source": [
    "## Visualizações"
   ]
  },
  {
   "cell_type": "code",
   "execution_count": 3,
   "metadata": {},
   "outputs": [
    {
     "name": "stdout",
     "output_type": "stream",
     "text": [
      "<class 'pandas.core.frame.DataFrame'>\n",
      "RangeIndex: 11534 entries, 0 to 11533\n",
      "Data columns (total 7 columns):\n",
      " #   Column           Non-Null Count  Dtype \n",
      "---  ------           --------------  ----- \n",
      " 0   image_id         11534 non-null  int64 \n",
      " 1   image_filename   11534 non-null  object\n",
      " 2   image_doi        11534 non-null  object\n",
      " 3   cell_id          11534 non-null  int64 \n",
      " 4   bethesda_system  11534 non-null  object\n",
      " 5   nucleus_x        11534 non-null  int64 \n",
      " 6   nucleus_y        11534 non-null  int64 \n",
      "dtypes: int64(4), object(3)\n",
      "memory usage: 630.9+ KB\n"
     ]
    }
   ],
   "source": [
    "classifications_csv.info()"
   ]
  },
  {
   "cell_type": "code",
   "execution_count": 4,
   "metadata": {},
   "outputs": [
    {
     "data": {
      "text/html": [
       "<div>\n",
       "<style scoped>\n",
       "    .dataframe tbody tr th:only-of-type {\n",
       "        vertical-align: middle;\n",
       "    }\n",
       "\n",
       "    .dataframe tbody tr th {\n",
       "        vertical-align: top;\n",
       "    }\n",
       "\n",
       "    .dataframe thead th {\n",
       "        text-align: right;\n",
       "    }\n",
       "</style>\n",
       "<table border=\"1\" class=\"dataframe\">\n",
       "  <thead>\n",
       "    <tr style=\"text-align: right;\">\n",
       "      <th></th>\n",
       "      <th>image_id</th>\n",
       "      <th>image_filename</th>\n",
       "      <th>image_doi</th>\n",
       "      <th>cell_id</th>\n",
       "      <th>bethesda_system</th>\n",
       "      <th>nucleus_x</th>\n",
       "      <th>nucleus_y</th>\n",
       "    </tr>\n",
       "  </thead>\n",
       "  <tbody>\n",
       "    <tr>\n",
       "      <th>0</th>\n",
       "      <td>400</td>\n",
       "      <td>9ae8a4edde40219bad6303cebc672ee4.png</td>\n",
       "      <td>10.6084/m9.figshare.12230906</td>\n",
       "      <td>1</td>\n",
       "      <td>SCC</td>\n",
       "      <td>792</td>\n",
       "      <td>462</td>\n",
       "    </tr>\n",
       "    <tr>\n",
       "      <th>1</th>\n",
       "      <td>400</td>\n",
       "      <td>9ae8a4edde40219bad6303cebc672ee4.png</td>\n",
       "      <td>10.6084/m9.figshare.12230906</td>\n",
       "      <td>2</td>\n",
       "      <td>SCC</td>\n",
       "      <td>601</td>\n",
       "      <td>678</td>\n",
       "    </tr>\n",
       "    <tr>\n",
       "      <th>2</th>\n",
       "      <td>400</td>\n",
       "      <td>9ae8a4edde40219bad6303cebc672ee4.png</td>\n",
       "      <td>10.6084/m9.figshare.12230906</td>\n",
       "      <td>3</td>\n",
       "      <td>SCC</td>\n",
       "      <td>363</td>\n",
       "      <td>467</td>\n",
       "    </tr>\n",
       "    <tr>\n",
       "      <th>3</th>\n",
       "      <td>400</td>\n",
       "      <td>9ae8a4edde40219bad6303cebc672ee4.png</td>\n",
       "      <td>10.6084/m9.figshare.12230906</td>\n",
       "      <td>4</td>\n",
       "      <td>SCC</td>\n",
       "      <td>599</td>\n",
       "      <td>437</td>\n",
       "    </tr>\n",
       "    <tr>\n",
       "      <th>4</th>\n",
       "      <td>400</td>\n",
       "      <td>9ae8a4edde40219bad6303cebc672ee4.png</td>\n",
       "      <td>10.6084/m9.figshare.12230906</td>\n",
       "      <td>5</td>\n",
       "      <td>Negative for intraepithelial lesion</td>\n",
       "      <td>1186</td>\n",
       "      <td>450</td>\n",
       "    </tr>\n",
       "  </tbody>\n",
       "</table>\n",
       "</div>"
      ],
      "text/plain": [
       "   image_id                        image_filename  \\\n",
       "0       400  9ae8a4edde40219bad6303cebc672ee4.png   \n",
       "1       400  9ae8a4edde40219bad6303cebc672ee4.png   \n",
       "2       400  9ae8a4edde40219bad6303cebc672ee4.png   \n",
       "3       400  9ae8a4edde40219bad6303cebc672ee4.png   \n",
       "4       400  9ae8a4edde40219bad6303cebc672ee4.png   \n",
       "\n",
       "                      image_doi  cell_id                      bethesda_system  \\\n",
       "0  10.6084/m9.figshare.12230906        1                                  SCC   \n",
       "1  10.6084/m9.figshare.12230906        2                                  SCC   \n",
       "2  10.6084/m9.figshare.12230906        3                                  SCC   \n",
       "3  10.6084/m9.figshare.12230906        4                                  SCC   \n",
       "4  10.6084/m9.figshare.12230906        5  Negative for intraepithelial lesion   \n",
       "\n",
       "   nucleus_x  nucleus_y  \n",
       "0        792        462  \n",
       "1        601        678  \n",
       "2        363        467  \n",
       "3        599        437  \n",
       "4       1186        450  "
      ]
     },
     "execution_count": 4,
     "metadata": {},
     "output_type": "execute_result"
    }
   ],
   "source": [
    "classifications_csv.head()"
   ]
  },
  {
   "cell_type": "code",
   "execution_count": 5,
   "metadata": {},
   "outputs": [
    {
     "data": {
      "text/plain": [
       "0                                     SCC\n",
       "4     Negative for intraepithelial lesion\n",
       "6                                    LSIL\n",
       "8                                    HSIL\n",
       "9                                   ASC-H\n",
       "98                                 ASC-US\n",
       "Name: bethesda_system, dtype: object"
      ]
     },
     "execution_count": 5,
     "metadata": {},
     "output_type": "execute_result"
    }
   ],
   "source": [
    "classifications_csv['bethesda_system'].drop_duplicates()"
   ]
  },
  {
   "cell_type": "markdown",
   "metadata": {},
   "source": [
    "## Funções"
   ]
  },
  {
   "cell_type": "code",
   "execution_count": 10,
   "metadata": {},
   "outputs": [],
   "source": [
    "# Corta a imagem no tamanho de 100x100 pixels\n",
    "def crop_image(image, x, y):\n",
    "    width, height = image.size\n",
    "    if(x < 50):\n",
    "        left = 0\n",
    "        right = 100\n",
    "    elif(x > width - 50):\n",
    "        left = width - 100\n",
    "        right = width\n",
    "    else:\n",
    "        left = x - 50\n",
    "        right = x + 50\n",
    "    if (y < 50):\n",
    "        top = 0\n",
    "        bottom = 100\n",
    "    elif(y > height - 50):\n",
    "        top = height - 100\n",
    "        bottom = height\n",
    "    else:\n",
    "        top = y - 50\n",
    "        bottom = y + 50\n",
    "    image = image.crop((left, top, right, bottom))\n",
    "    return image"
   ]
  },
  {
   "cell_type": "code",
   "execution_count": 11,
   "metadata": {},
   "outputs": [],
   "source": [
    "def get_img_dir(bethesda_system):\n",
    "    if bethesda_system == 'SCC' or bethesda_system == 'LSIL' or bethesda_system == 'HSIL' or bethesda_system == 'ASC-H' or bethesda_system == 'ASC-US':\n",
    "        return 'editted_images/' + bethesda_system.lower() + '/'\n",
    "    elif bethesda_system == 'Negative for intraepithelial lesion':\n",
    "        return 'editted_images/nfil/'\n"
   ]
  },
  {
   "cell_type": "code",
   "execution_count": 12,
   "metadata": {},
   "outputs": [],
   "source": [
    "def get_new_nucleus_position(image, x, y):\n",
    "    width, height = image.size\n",
    "    if (x >= 50 and x <= (width - 50)):\n",
    "        new_x = 50\n",
    "    elif (x < 50):\n",
    "        new_x = x\n",
    "    else:\n",
    "        new_x = 50 + (width - x)\n",
    "\n",
    "    if (y >= 50 and y <= (height - 50)):\n",
    "        new_y = 50\n",
    "    elif (y < 50):\n",
    "        new_y = y\n",
    "    else:\n",
    "        new_y = 50 + (height - y)\n",
    "    \n",
    "    return new_x, new_y"
   ]
  },
  {
   "cell_type": "code",
   "execution_count": 13,
   "metadata": {},
   "outputs": [],
   "source": [
    "def process_image(image):\n",
    "    gray_image = cv2.cvtColor(image, cv2.COLOR_BGR2GRAY)\n",
    "    _, binary_image = cv2.threshold(gray_image, 128, 255, cv2.THRESH_BINARY)\n",
    "    kernel = np.ones((10, 10), np.uint8)\n",
    "    return cv2.morphologyEx(binary_image, cv2.MORPH_CLOSE, kernel)"
   ]
  },
  {
   "cell_type": "code",
   "execution_count": 14,
   "metadata": {},
   "outputs": [],
   "source": [
    "def get_shape_descriptors(image):\n",
    "    contours, _ = cv2.findContours(image, cv2.RETR_TREE, cv2.CHAIN_APPROX_SIMPLE)\n",
    "    if contours:\n",
    "        contour = contours[0]\n",
    "        area = cv2.contourArea(contour)\n",
    "        perimeter = cv2.arcLength(contour, True)\n",
    "\n",
    "        if area > 0:\n",
    "            compactness = (perimeter**2) / (4 * np.pi * area)\n",
    "            moments = cv2.moments(contour)\n",
    "            hu_moments = cv2.HuMoments(moments).flatten()\n",
    "            rect = cv2.minAreaRect(contour)\n",
    "            axis_x = rect[1][0]\n",
    "            axis_y = rect[1][1]\n",
    "\n",
    "            if axis_x > axis_y:\n",
    "                eccentricity = axis_x / axis_y\n",
    "            else:\n",
    "                eccentricity = axis_y / axis_x\n",
    "\n",
    "            return [area, perimeter, compactness, hu_moments, eccentricity]\n",
    "        \n",
    "    return None\n"
   ]
  },
  {
   "cell_type": "markdown",
   "metadata": {},
   "source": [
    "## Salvar as imagens nas respectivas pastas"
   ]
  },
  {
   "cell_type": "code",
   "execution_count": 16,
   "metadata": {},
   "outputs": [
    {
     "ename": "KeyboardInterrupt",
     "evalue": "",
     "output_type": "error",
     "traceback": [
      "\u001b[1;31m---------------------------------------------------------------------------\u001b[0m",
      "\u001b[1;31mKeyboardInterrupt\u001b[0m                         Traceback (most recent call last)",
      "\u001b[1;32mf:\\CAIO\\Documents\\CAIO ESTUDOS\\PROJETOS VISUAL STUDIO\\PAI\\pai_tp-main\\part1.ipynb Cell 17\u001b[0m line \u001b[0;36m1\n\u001b[0;32m      <a href='vscode-notebook-cell:/f%3A/CAIO/Documents/CAIO%20ESTUDOS/PROJETOS%20VISUAL%20STUDIO/PAI/pai_tp-main/part1.ipynb#X22sZmlsZQ%3D%3D?line=8'>9</a>\u001b[0m original_image_filepath \u001b[39m=\u001b[39m \u001b[39mf\u001b[39m\u001b[39m'\u001b[39m\u001b[39mimages/\u001b[39m\u001b[39m{\u001b[39;00mrow[\u001b[39m\"\u001b[39m\u001b[39mimage_filename\u001b[39m\u001b[39m\"\u001b[39m]\u001b[39m}\u001b[39;00m\u001b[39m'\u001b[39m\n\u001b[0;32m     <a href='vscode-notebook-cell:/f%3A/CAIO/Documents/CAIO%20ESTUDOS/PROJETOS%20VISUAL%20STUDIO/PAI/pai_tp-main/part1.ipynb#X22sZmlsZQ%3D%3D?line=9'>10</a>\u001b[0m image \u001b[39m=\u001b[39m Image\u001b[39m.\u001b[39mopen(original_image_filepath)\n\u001b[1;32m---> <a href='vscode-notebook-cell:/f%3A/CAIO/Documents/CAIO%20ESTUDOS/PROJETOS%20VISUAL%20STUDIO/PAI/pai_tp-main/part1.ipynb#X22sZmlsZQ%3D%3D?line=10'>11</a>\u001b[0m croped_image \u001b[39m=\u001b[39m crop_image(image, row[\u001b[39m'\u001b[39;49m\u001b[39mnucleus_x\u001b[39;49m\u001b[39m'\u001b[39;49m], row[\u001b[39m'\u001b[39;49m\u001b[39mnucleus_y\u001b[39;49m\u001b[39m'\u001b[39;49m])\n\u001b[0;32m     <a href='vscode-notebook-cell:/f%3A/CAIO/Documents/CAIO%20ESTUDOS/PROJETOS%20VISUAL%20STUDIO/PAI/pai_tp-main/part1.ipynb#X22sZmlsZQ%3D%3D?line=11'>12</a>\u001b[0m croped_image_filepath \u001b[39m=\u001b[39m \u001b[39mf\u001b[39m\u001b[39m'\u001b[39m\u001b[39m{\u001b[39;00mget_img_dir(row[\u001b[39m\"\u001b[39m\u001b[39mbethesda_system\u001b[39m\u001b[39m\"\u001b[39m])\u001b[39m}\u001b[39;00m\u001b[39m{\u001b[39;00mrow[\u001b[39m\"\u001b[39m\u001b[39mcell_id\u001b[39m\u001b[39m\"\u001b[39m]\u001b[39m}\u001b[39;00m\u001b[39m.jpg\u001b[39m\u001b[39m'\u001b[39m\n\u001b[0;32m     <a href='vscode-notebook-cell:/f%3A/CAIO/Documents/CAIO%20ESTUDOS/PROJETOS%20VISUAL%20STUDIO/PAI/pai_tp-main/part1.ipynb#X22sZmlsZQ%3D%3D?line=12'>13</a>\u001b[0m croped_image\u001b[39m.\u001b[39msave(croped_image_filepath)\n",
      "\u001b[1;32mf:\\CAIO\\Documents\\CAIO ESTUDOS\\PROJETOS VISUAL STUDIO\\PAI\\pai_tp-main\\part1.ipynb Cell 17\u001b[0m line \u001b[0;36m2\n\u001b[0;32m     <a href='vscode-notebook-cell:/f%3A/CAIO/Documents/CAIO%20ESTUDOS/PROJETOS%20VISUAL%20STUDIO/PAI/pai_tp-main/part1.ipynb#X22sZmlsZQ%3D%3D?line=19'>20</a>\u001b[0m     top \u001b[39m=\u001b[39m y \u001b[39m-\u001b[39m \u001b[39m50\u001b[39m\n\u001b[0;32m     <a href='vscode-notebook-cell:/f%3A/CAIO/Documents/CAIO%20ESTUDOS/PROJETOS%20VISUAL%20STUDIO/PAI/pai_tp-main/part1.ipynb#X22sZmlsZQ%3D%3D?line=20'>21</a>\u001b[0m     bottom \u001b[39m=\u001b[39m y \u001b[39m+\u001b[39m \u001b[39m50\u001b[39m\n\u001b[1;32m---> <a href='vscode-notebook-cell:/f%3A/CAIO/Documents/CAIO%20ESTUDOS/PROJETOS%20VISUAL%20STUDIO/PAI/pai_tp-main/part1.ipynb#X22sZmlsZQ%3D%3D?line=21'>22</a>\u001b[0m image \u001b[39m=\u001b[39m image\u001b[39m.\u001b[39;49mcrop((left, top, right, bottom))\n\u001b[0;32m     <a href='vscode-notebook-cell:/f%3A/CAIO/Documents/CAIO%20ESTUDOS/PROJETOS%20VISUAL%20STUDIO/PAI/pai_tp-main/part1.ipynb#X22sZmlsZQ%3D%3D?line=22'>23</a>\u001b[0m \u001b[39mreturn\u001b[39;00m image\n",
      "File \u001b[1;32mc:\\Python310\\lib\\site-packages\\PIL\\Image.py:1229\u001b[0m, in \u001b[0;36mImage.crop\u001b[1;34m(self, box)\u001b[0m\n\u001b[0;32m   1226\u001b[0m     msg \u001b[39m=\u001b[39m \u001b[39m\"\u001b[39m\u001b[39mCoordinate \u001b[39m\u001b[39m'\u001b[39m\u001b[39mlower\u001b[39m\u001b[39m'\u001b[39m\u001b[39m is less than \u001b[39m\u001b[39m'\u001b[39m\u001b[39mupper\u001b[39m\u001b[39m'\u001b[39m\u001b[39m\"\u001b[39m\n\u001b[0;32m   1227\u001b[0m     \u001b[39mraise\u001b[39;00m \u001b[39mValueError\u001b[39;00m(msg)\n\u001b[1;32m-> 1229\u001b[0m \u001b[39mself\u001b[39;49m\u001b[39m.\u001b[39;49mload()\n\u001b[0;32m   1230\u001b[0m \u001b[39mreturn\u001b[39;00m \u001b[39mself\u001b[39m\u001b[39m.\u001b[39m_new(\u001b[39mself\u001b[39m\u001b[39m.\u001b[39m_crop(\u001b[39mself\u001b[39m\u001b[39m.\u001b[39mim, box))\n",
      "File \u001b[1;32mc:\\Python310\\lib\\site-packages\\PIL\\ImageFile.py:269\u001b[0m, in \u001b[0;36mImageFile.load\u001b[1;34m(self)\u001b[0m\n\u001b[0;32m    266\u001b[0m         \u001b[39mraise\u001b[39;00m \u001b[39mOSError\u001b[39;00m(msg)\n\u001b[0;32m    268\u001b[0m b \u001b[39m=\u001b[39m b \u001b[39m+\u001b[39m s\n\u001b[1;32m--> 269\u001b[0m n, err_code \u001b[39m=\u001b[39m decoder\u001b[39m.\u001b[39;49mdecode(b)\n\u001b[0;32m    270\u001b[0m \u001b[39mif\u001b[39;00m n \u001b[39m<\u001b[39m \u001b[39m0\u001b[39m:\n\u001b[0;32m    271\u001b[0m     \u001b[39mbreak\u001b[39;00m\n",
      "\u001b[1;31mKeyboardInterrupt\u001b[0m: "
     ]
    }
   ],
   "source": [
    "dir_list = ['scc', 'lsil', 'hsil', 'asc-h', 'asc-us', 'nfil']\n",
    "makedirs('editted_images', exist_ok=True)\n",
    "for i in dir_list:\n",
    "    makedirs(f'editted_images/{i}', exist_ok=True)\n",
    "dataframe = pd.DataFrame(columns=['original_filename', 'image_id', 'bethesda_system', 'nucleus_x', 'nucleus_y', 'area', 'perimeter', 'compactness', 'hu_moments', 'eccentricity'])\n",
    "onlyfiles = [f for f in listdir('images') if isfile(join('images', f))]\n",
    "for index, row in classifications_csv.iterrows():\n",
    "    if row[\"image_filename\"] in onlyfiles:\n",
    "        original_image_filepath = f'images/{row[\"image_filename\"]}'\n",
    "        image = Image.open(original_image_filepath)\n",
    "        croped_image = crop_image(image, row['nucleus_x'], row['nucleus_y'])\n",
    "        croped_image_filepath = f'{get_img_dir(row[\"bethesda_system\"])}{row[\"cell_id\"]}.jpg'\n",
    "        croped_image.save(croped_image_filepath)\n",
    "\n",
    "        x, y = get_new_nucleus_position(image, row['nucleus_x'], row['nucleus_y'])\n",
    "\n",
    "        processed_image = process_image(np.array(croped_image))\n",
    "\n",
    "        processed_image_shape_descriptors = get_shape_descriptors(processed_image)\n",
    "\n",
    "        if(processed_image_shape_descriptors):\n",
    "            area = processed_image_shape_descriptors[0]\n",
    "            perimeter = processed_image_shape_descriptors[1]\n",
    "            compactness = processed_image_shape_descriptors[2]\n",
    "            hu_moments = processed_image_shape_descriptors[3]\n",
    "            eccentricity = processed_image_shape_descriptors[4]\n",
    "\n",
    "            dataframe.loc[dataframe.size] = [original_image_filepath, row['image_id'], row['bethesda_system'], x, y, area, perimeter, compactness, hu_moments, eccentricity]\n",
    "        else:\n",
    "            dataframe.loc[dataframe.size] = [original_image_filepath, row['image_id'], row['bethesda_system'], x, y, '', '', '', '', '']\n",
    "dataframe.to_csv('preprocessed_data.csv', index=False)"
   ]
  },
  {
   "cell_type": "markdown",
   "metadata": {},
   "source": [
    "## Segmentar as Imagens"
   ]
  },
  {
   "cell_type": "code",
   "execution_count": 3,
   "metadata": {},
   "outputs": [],
   "source": [
    "def distance_between_points(point_a, point_b):\n",
    "    return np.sqrt((point_a[0] - point_b[0]) ** 2 + (point_a[1] - point_b[1]) ** 2)"
   ]
  },
  {
   "cell_type": "code",
   "execution_count": 9,
   "metadata": {},
   "outputs": [
    {
     "ename": "NameError",
     "evalue": "name 'get_img_dir' is not defined",
     "output_type": "error",
     "traceback": [
      "\u001b[1;31m---------------------------------------------------------------------------\u001b[0m",
      "\u001b[1;31mNameError\u001b[0m                                 Traceback (most recent call last)",
      "\u001b[1;32mf:\\CAIO\\Documents\\CAIO ESTUDOS\\PROJETOS VISUAL STUDIO\\PAI\\pai_tp-main\\part1.ipynb Cell 20\u001b[0m line \u001b[0;36m6\n\u001b[0;32m      <a href='vscode-notebook-cell:/f%3A/CAIO/Documents/CAIO%20ESTUDOS/PROJETOS%20VISUAL%20STUDIO/PAI/pai_tp-main/part1.ipynb#X25sZmlsZQ%3D%3D?line=3'>4</a>\u001b[0m \u001b[39mfor\u001b[39;00m index, row \u001b[39min\u001b[39;00m preprocessed_data_csv\u001b[39m.\u001b[39miterrows():\n\u001b[0;32m      <a href='vscode-notebook-cell:/f%3A/CAIO/Documents/CAIO%20ESTUDOS/PROJETOS%20VISUAL%20STUDIO/PAI/pai_tp-main/part1.ipynb#X25sZmlsZQ%3D%3D?line=4'>5</a>\u001b[0m     filename \u001b[39m=\u001b[39m \u001b[39mf\u001b[39m\u001b[39m'\u001b[39m\u001b[39m{\u001b[39;00mrow[\u001b[39m\"\u001b[39m\u001b[39mimage_id\u001b[39m\u001b[39m\"\u001b[39m]\u001b[39m}\u001b[39;00m\u001b[39m.jpg\u001b[39m\u001b[39m'\u001b[39m\n\u001b[1;32m----> <a href='vscode-notebook-cell:/f%3A/CAIO/Documents/CAIO%20ESTUDOS/PROJETOS%20VISUAL%20STUDIO/PAI/pai_tp-main/part1.ipynb#X25sZmlsZQ%3D%3D?line=5'>6</a>\u001b[0m     filepath \u001b[39m=\u001b[39m \u001b[39mf\u001b[39m\u001b[39m'\u001b[39m\u001b[39m{\u001b[39;00mget_img_dir(row[\u001b[39m\"\u001b[39m\u001b[39mbethesda_system\u001b[39m\u001b[39m\"\u001b[39m])\u001b[39m}\u001b[39;00m\u001b[39m{\u001b[39;00mfilename\u001b[39m}\u001b[39;00m\u001b[39m'\u001b[39m\n\u001b[0;32m      <a href='vscode-notebook-cell:/f%3A/CAIO/Documents/CAIO%20ESTUDOS/PROJETOS%20VISUAL%20STUDIO/PAI/pai_tp-main/part1.ipynb#X25sZmlsZQ%3D%3D?line=6'>7</a>\u001b[0m     \u001b[39mif\u001b[39;00m (exists(filepath)):\n\u001b[0;32m      <a href='vscode-notebook-cell:/f%3A/CAIO/Documents/CAIO%20ESTUDOS/PROJETOS%20VISUAL%20STUDIO/PAI/pai_tp-main/part1.ipynb#X25sZmlsZQ%3D%3D?line=7'>8</a>\u001b[0m         image \u001b[39m=\u001b[39m cv2\u001b[39m.\u001b[39mimread(filepath)\n",
      "\u001b[1;31mNameError\u001b[0m: name 'get_img_dir' is not defined"
     ]
    }
   ],
   "source": [
    "makedirs('segmented_images', exist_ok=True)\n",
    "preprocessed_data_csv = pd.read_csv('preprocessed_data.csv')\n",
    "\n",
    "for index, row in preprocessed_data_csv.iterrows():\n",
    "    filename = f'{row[\"image_id\"]}.jpg'\n",
    "    filepath = f'{get_img_dir(row[\"bethesda_system\"])}{filename}'\n",
    "    if (exists(filepath)):\n",
    "        image = cv2.imread(filepath)\n",
    "        \n",
    "        image_id = row['image_id']\n",
    "        bethesda_system = row['bethesda_system']\n",
    "        nucleus_x = int(row['nucleus_x'])\n",
    "        nucleus_y = int(row['nucleus_y'])\n",
    "\n",
    "        gray = cv2.cvtColor(image, cv2.COLOR_BGR2GRAY)\n",
    "        ret, thresh = cv2.threshold(gray, 127, 255, cv2.THRESH_BINARY)\n",
    "        contours, _ = cv2.findContours(thresh, cv2.RETR_EXTERNAL, cv2.CHAIN_APPROX_SIMPLE)\n",
    "\n",
    "        if contours:\n",
    "            largest_contour = max(contours, key=cv2.contourArea)\n",
    "            center = cv2.moments(largest_contour)\n",
    "\n",
    "            if center[\"m00\"] != 0:\n",
    "                center_x = int(center[\"m10\"] / center[\"m00\"])\n",
    "                center_y = int(center[\"m01\"] / center[\"m00\"])\n",
    "\n",
    "                segmented_nucleus = (center_x, center_y)\n",
    "\n",
    "                segmented_image = image.copy()\n",
    "                cv2.drawContours(segmented_image, [largest_contour], -1, (0, 255, 0), 2)\n",
    "                    \n",
    "                new_path = f'segmented_images/{filename}'\n",
    "                cv2.imwrite(new_path, segmented_image)\n",
    "\n",
    "                dist = distance_between_points((center_x, center_y), (nucleus_x, nucleus_y))\n",
    "                print(f\"{filename} --> {dist} pixels de distância\")\n",
    "        # dataframe\n",
    "    "
   ]
  },
  {
   "cell_type": "code",
   "execution_count": 8,
   "metadata": {},
   "outputs": [
    {
     "ename": "NameError",
     "evalue": "name 'get_img_dir' is not defined",
     "output_type": "error",
     "traceback": [
      "\u001b[1;31m---------------------------------------------------------------------------\u001b[0m",
      "\u001b[1;31mNameError\u001b[0m                                 Traceback (most recent call last)",
      "\u001b[1;32mf:\\CAIO\\Documents\\CAIO ESTUDOS\\PROJETOS VISUAL STUDIO\\PAI\\pai_tp-main\\part1.ipynb Cell 21\u001b[0m line \u001b[0;36m2\n\u001b[0;32m     <a href='vscode-notebook-cell:/f%3A/CAIO/Documents/CAIO%20ESTUDOS/PROJETOS%20VISUAL%20STUDIO/PAI/pai_tp-main/part1.ipynb#X26sZmlsZQ%3D%3D?line=23'>24</a>\u001b[0m \u001b[39mfor\u001b[39;00m index, row \u001b[39min\u001b[39;00m preprocessed_data_csv\u001b[39m.\u001b[39miterrows():\n\u001b[0;32m     <a href='vscode-notebook-cell:/f%3A/CAIO/Documents/CAIO%20ESTUDOS/PROJETOS%20VISUAL%20STUDIO/PAI/pai_tp-main/part1.ipynb#X26sZmlsZQ%3D%3D?line=24'>25</a>\u001b[0m     filename \u001b[39m=\u001b[39m \u001b[39mf\u001b[39m\u001b[39m'\u001b[39m\u001b[39m{\u001b[39;00mrow[\u001b[39m\"\u001b[39m\u001b[39mimage_id\u001b[39m\u001b[39m\"\u001b[39m]\u001b[39m}\u001b[39;00m\u001b[39m.jpg\u001b[39m\u001b[39m'\u001b[39m\n\u001b[1;32m---> <a href='vscode-notebook-cell:/f%3A/CAIO/Documents/CAIO%20ESTUDOS/PROJETOS%20VISUAL%20STUDIO/PAI/pai_tp-main/part1.ipynb#X26sZmlsZQ%3D%3D?line=25'>26</a>\u001b[0m     filepath \u001b[39m=\u001b[39m \u001b[39mf\u001b[39m\u001b[39m'\u001b[39m\u001b[39m{\u001b[39;00mget_img_dir(row[\u001b[39m\"\u001b[39m\u001b[39mbethesda_system\u001b[39m\u001b[39m\"\u001b[39m])\u001b[39m}\u001b[39;00m\u001b[39m{\u001b[39;00mfilename\u001b[39m}\u001b[39;00m\u001b[39m'\u001b[39m\n\u001b[0;32m     <a href='vscode-notebook-cell:/f%3A/CAIO/Documents/CAIO%20ESTUDOS/PROJETOS%20VISUAL%20STUDIO/PAI/pai_tp-main/part1.ipynb#X26sZmlsZQ%3D%3D?line=27'>28</a>\u001b[0m     \u001b[39mif\u001b[39;00m (path\u001b[39m.\u001b[39mexists(filepath)):\n\u001b[0;32m     <a href='vscode-notebook-cell:/f%3A/CAIO/Documents/CAIO%20ESTUDOS/PROJETOS%20VISUAL%20STUDIO/PAI/pai_tp-main/part1.ipynb#X26sZmlsZQ%3D%3D?line=28'>29</a>\u001b[0m         image \u001b[39m=\u001b[39m cv2\u001b[39m.\u001b[39mimread(filepath)\n",
      "\u001b[1;31mNameError\u001b[0m: name 'get_img_dir' is not defined"
     ]
    },
    {
     "data": {
      "text/plain": [
       "<Figure size 1000x600 with 0 Axes>"
      ]
     },
     "metadata": {},
     "output_type": "display_data"
    }
   ],
   "source": [
    "import numpy as np\n",
    "import pandas as pd\n",
    "import cv2\n",
    "from os import makedirs, path\n",
    "import matplotlib.pyplot as plt\n",
    "import seaborn as sns\n",
    "\n",
    "def distance_between_points(point_a, point_b):\n",
    "    return np.sqrt((point_a[0] - point_b[0]) ** 2 + (point_a[1] - point_b[1]) ** 2)\n",
    "\n",
    "def get_img_dir(bethesda_system):\n",
    "    if bethesda_system in ['SCC', 'LSIL', 'HSIL', 'ASC-H', 'ASC-US']:\n",
    "        return 'editted_images/' + bethesda_system.lower() + '/'\n",
    "    elif bethesda_system == 'Negative for intraepithelial lesion':\n",
    "        return 'editted_images/nfil/'\n",
    "\n",
    "# Certifique-se de que o diretório 'segmented_images' existe\n",
    "makedirs('segmented_images', exist_ok=True)\n",
    "\n",
    "# Leitura dos dados pré-processados\n",
    "preprocessed_data_csv = pd.read_csv('preprocessed_data.csv')\n",
    "\n",
    "# Mapeamento de classes para cores\n",
    "class_colors = {'ASC-H': 'blue', 'ASC-US': 'red', 'HSIL': 'green', 'LSIL': 'purple', 'SCC': 'orange', 'Negative for intraepithelial lesion': 'brown'}\n",
    "\n",
    "# Preparação do gráfico\n",
    "plt.figure(figsize=(10, 6))\n",
    "\n",
    "# Iteração sobre os dados\n",
    "for index, row in preprocessed_data_csv.iterrows():\n",
    "    filename = f'{row[\"image_id\"]}.jpg'\n",
    "    filepath = get_img_dir(row[\"bethesda_system\"]) + filename\n",
    "\n",
    "    if (path.exists(filepath)):\n",
    "        image = cv2.imread(filepath)\n",
    "        \n",
    "        image_id = row['image_id']\n",
    "        nucleus_x = int(row['nucleus_x'])\n",
    "        nucleus_y = int(row['nucleus_y'])\n",
    "\n",
    "        gray = cv2.cvtColor(image, cv2.COLOR_BGR2GRAY)\n",
    "        ret, thresh = cv2.threshold(gray, 127, 255, cv2.THRESH_BINARY)\n",
    "        contours, _ = cv2.findContours(thresh, cv2.RETR_EXTERNAL, cv2.CHAIN_APPROX_SIMPLE)\n",
    "\n",
    "        if contours:\n",
    "            largest_contour = max(contours, key=cv2.contourArea)\n",
    "            center = cv2.moments(largest_contour)\n",
    "\n",
    "            if center[\"m00\"] != 0:\n",
    "                center_x = int(center[\"m10\"] / center[\"m00\"])\n",
    "                center_y = int(center[\"m01\"] / center[\"m00\"])\n",
    "\n",
    "                segmented_nucleus = (center_x, center_y)\n",
    "\n",
    "                dist = distance_between_points((center_x, center_y), (nucleus_x, nucleus_y))\n",
    "\n",
    "                # Adicionando ponto ao gráfico de dispersão\n",
    "                plt.scatter(dist, # x: distância\n",
    "                            row['excentricidade'], # y: excentricidade\n",
    "                            color=class_colors.get(row['bethesda_system'], 'gray'),\n",
    "                            label=row['bethesda_system'])\n",
    "\n",
    "# Adicionando rótulos e título ao gráfico\n",
    "plt.xlabel('Distância entre pontos')\n",
    "plt.ylabel('Excentricidade')\n",
    "plt.title('Gráfico de Dispersão - Distância vs. Excentricidade')\n",
    "\n",
    "# Adicionando legenda\n",
    "plt.legend()\n",
    "\n",
    "# Exibindo o gráfico\n",
    "plt.show()\n"
   ]
  }
 ],
 "metadata": {
  "kernelspec": {
   "display_name": ".venv",
   "language": "python",
   "name": "python3"
  },
  "language_info": {
   "codemirror_mode": {
    "name": "ipython",
    "version": 3
   },
   "file_extension": ".py",
   "mimetype": "text/x-python",
   "name": "python",
   "nbconvert_exporter": "python",
   "pygments_lexer": "ipython3",
   "version": "3.10.5"
  }
 },
 "nbformat": 4,
 "nbformat_minor": 2
}
