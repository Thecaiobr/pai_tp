{
 "cells": [
  {
   "cell_type": "markdown",
   "metadata": {},
   "source": [
    "# Matriculas:\n",
    "Rafael Lopes Murta (690213)\n",
    "Caio Massote Andrade (725728)\n",
    "Henrique Moura Souza Belo (732218)\n",
    "Guilherme Vedovelo de Britto Claro (738097)"
   ]
  },
  {
   "cell_type": "code",
   "execution_count": 1,
   "metadata": {},
   "outputs": [
    {
     "name": "stdout",
     "output_type": "stream",
     "text": [
      "matriculas mod 2 = 0 = Compacidade \n",
      "matriculas mod 3 = 1 = EfficientNet\n"
     ]
    }
   ],
   "source": [
    "soma_matriculas = 690213 + 725728 + 732218 + 738097\n",
    "N2 = soma_matriculas % 2\n",
    "N3 = soma_matriculas % 3\n",
    "print(f'matriculas mod 2 = {N2} = Compacidade \\nmatriculas mod 3 = {N3} = EfficientNet')"
   ]
  },
  {
   "cell_type": "markdown",
   "metadata": {},
   "source": [
    "## Imports"
   ]
  },
  {
   "cell_type": "code",
   "execution_count": 2,
   "metadata": {},
   "outputs": [],
   "source": [
    "import cv2\n",
    "import pandas as pd\n",
    "import numpy as np\n",
    "from PIL import Image\n",
    "import matplotlib.pyplot as plt\n",
    "from os import makedirs\n",
    "from sklearn.model_selection import train_test_split\n",
    "import os\n",
    "import tensorflow as tf\n",
    "from scipy.spatial.distance import mahalanobis\n",
    "from torchvision import transforms"
   ]
  },
  {
   "cell_type": "markdown",
   "metadata": {},
   "source": [
    "## Create Directories and load data"
   ]
  },
  {
   "cell_type": "code",
   "execution_count": 3,
   "metadata": {},
   "outputs": [],
   "source": [
    "makedirs('train_test_images/train', exist_ok=True)\n",
    "makedirs('train_test_images/test', exist_ok=True)\n",
    "dir_list = ['scc', 'lsil', 'hsil', 'asc-h', 'asc-us', 'nfil']\n",
    "for i in dir_list:\n",
    "    makedirs(f'train_test_images/train/{i}', exist_ok=True)\n",
    "    makedirs(f'train_test_images/test/{i}', exist_ok=True)\n",
    "\n",
    "characteristics_df = pd.read_csv('characteristics.csv')"
   ]
  },
  {
   "cell_type": "markdown",
   "metadata": {},
   "source": [
    "## Separate train and test images"
   ]
  },
  {
   "cell_type": "code",
   "execution_count": 4,
   "metadata": {},
   "outputs": [],
   "source": [
    "train, test = train_test_split(characteristics_df, test_size=0.2, random_state=42, shuffle=True, stratify=characteristics_df['bethesda_system'])"
   ]
  },
  {
   "cell_type": "markdown",
   "metadata": {},
   "source": [
    "## Save train and test images on their respective folders"
   ]
  },
  {
   "cell_type": "code",
   "execution_count": 5,
   "metadata": {},
   "outputs": [],
   "source": [
    "def get_img_dir(bethesda_system, folder):\n",
    "    if bethesda_system == 'SCC' or bethesda_system == 'LSIL' or bethesda_system == 'HSIL' or bethesda_system == 'ASC-H' or bethesda_system == 'ASC-US':\n",
    "        return folder + '/' + bethesda_system.lower() + '/'\n",
    "    elif bethesda_system == 'Negative for intraepithelial lesion':\n",
    "        return folder + '/nfil/'"
   ]
  },
  {
   "cell_type": "code",
   "execution_count": 6,
   "metadata": {},
   "outputs": [],
   "source": [
    "train.to_csv('train.csv', index=False)\n",
    "test.to_csv('test.csv', index=False)\n",
    "\n",
    "for index, row in train.iterrows():\n",
    "    imagepath = f'{get_img_dir(row[\"bethesda_system\"], \"editted_images\")}{row[\"cell_id\"]}.jpg'\n",
    "    image = Image.open(imagepath)\n",
    "    new_imagepath = f'{get_img_dir(row[\"bethesda_system\"], \"train_test_images/train\")}{row[\"cell_id\"]}.jpg'\n",
    "    image.save(new_imagepath)\n",
    "\n",
    "for index, row in test.iterrows():\n",
    "    imagepath = f'{get_img_dir(row[\"bethesda_system\"], \"editted_images\")}{row[\"cell_id\"]}.jpg'\n",
    "    image = Image.open(imagepath)\n",
    "    new_imagepath = f'{get_img_dir(row[\"bethesda_system\"], \"train_test_images/test\")}{row[\"cell_id\"]}.jpg'\n",
    "    image.save(new_imagepath)"
   ]
  },
  {
   "cell_type": "markdown",
   "metadata": {},
   "source": [
    "## Distancia de Mahalanobis"
   ]
  },
  {
   "cell_type": "code",
   "execution_count": 9,
   "metadata": {},
   "outputs": [],
   "source": [
    "train = pd.read_csv('train.csv')\n",
    "test = pd.read_csv('test.csv')"
   ]
  },
  {
   "cell_type": "code",
   "execution_count": null,
   "metadata": {},
   "outputs": [],
   "source": []
  },
  {
   "cell_type": "code",
   "execution_count": null,
   "metadata": {},
   "outputs": [],
   "source": []
  }
 ],
 "metadata": {
  "kernelspec": {
   "display_name": "tensorflow",
   "language": "python",
   "name": "python3"
  },
  "language_info": {
   "codemirror_mode": {
    "name": "ipython",
    "version": 3
   },
   "file_extension": ".py",
   "mimetype": "text/x-python",
   "name": "python",
   "nbconvert_exporter": "python",
   "pygments_lexer": "ipython3",
   "version": "3.10.12"
  }
 },
 "nbformat": 4,
 "nbformat_minor": 2
}
